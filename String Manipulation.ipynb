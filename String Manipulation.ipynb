{
 "cells": [
  {
   "cell_type": "markdown",
   "id": "65418382",
   "metadata": {},
   "source": [
    "# A string is a data structure in Python that represents a sequence of characters. It is an immutable data type, meaning that once you have created a string, you cannot change it. Strings are used widely in many different applications, such as storing and manipulating text data, representing names, addresses, and other types of data that can be represented as text."
   ]
  },
  {
   "cell_type": "code",
   "execution_count": 152,
   "id": "2b750c2a",
   "metadata": {},
   "outputs": [
    {
     "data": {
      "text/plain": [
       "'lazzU'"
      ]
     },
     "execution_count": 152,
     "metadata": {},
     "output_type": "execute_result"
    }
   ],
   "source": [
    "\"Uzzal\"[::-1]"
   ]
  },
  {
   "cell_type": "code",
   "execution_count": 1,
   "id": "126a0ae7",
   "metadata": {},
   "outputs": [
    {
     "name": "stdout",
     "output_type": "stream",
     "text": [
      "1 2 3\n"
     ]
    }
   ],
   "source": [
    "a,b,c=input().split()"
   ]
  },
  {
   "cell_type": "code",
   "execution_count": 2,
   "id": "c97fff5b",
   "metadata": {},
   "outputs": [
    {
     "name": "stdout",
     "output_type": "stream",
     "text": [
      "1 2 3\n"
     ]
    }
   ],
   "source": [
    "a, b, c= map(int,input().split())"
   ]
  },
  {
   "cell_type": "code",
   "execution_count": 3,
   "id": "e6893bf0",
   "metadata": {},
   "outputs": [
    {
     "data": {
      "text/plain": [
       "6"
      ]
     },
     "execution_count": 3,
     "metadata": {},
     "output_type": "execute_result"
    }
   ],
   "source": [
    "a+b+c\n"
   ]
  },
  {
   "cell_type": "code",
   "execution_count": 4,
   "id": "cfe696cb",
   "metadata": {},
   "outputs": [
    {
     "name": "stdout",
     "output_type": "stream",
     "text": [
      "1 2\n"
     ]
    },
    {
     "ename": "TypeError",
     "evalue": "int() argument must be a string, a bytes-like object or a number, not 'list'",
     "output_type": "error",
     "traceback": [
      "\u001b[1;31m---------------------------------------------------------------------------\u001b[0m",
      "\u001b[1;31mTypeError\u001b[0m                                 Traceback (most recent call last)",
      "\u001b[1;32m~\\AppData\\Local\\Temp/ipykernel_7376/3572715565.py\u001b[0m in \u001b[0;36m<module>\u001b[1;34m\u001b[0m\n\u001b[1;32m----> 1\u001b[1;33m \u001b[0ma\u001b[0m\u001b[1;33m,\u001b[0m \u001b[0mb\u001b[0m\u001b[1;33m=\u001b[0m \u001b[0mint\u001b[0m\u001b[1;33m(\u001b[0m\u001b[0minput\u001b[0m\u001b[1;33m(\u001b[0m\u001b[1;33m)\u001b[0m\u001b[1;33m.\u001b[0m\u001b[0msplit\u001b[0m\u001b[1;33m(\u001b[0m\u001b[1;33m)\u001b[0m\u001b[1;33m)\u001b[0m\u001b[1;33m\u001b[0m\u001b[1;33m\u001b[0m\u001b[0m\n\u001b[0m",
      "\u001b[1;31mTypeError\u001b[0m: int() argument must be a string, a bytes-like object or a number, not 'list'"
     ]
    }
   ],
   "source": [
    "a, b= int(input().split())"
   ]
  },
  {
   "cell_type": "code",
   "execution_count": 5,
   "id": "f545f8c0",
   "metadata": {},
   "outputs": [
    {
     "name": "stdout",
     "output_type": "stream",
     "text": [
      "I like the # symbole.\n"
     ]
    }
   ],
   "source": [
    "print(\"I like the # symbole.\")\n"
   ]
  },
  {
   "cell_type": "code",
   "execution_count": 6,
   "id": "3a74c9e2",
   "metadata": {},
   "outputs": [],
   "source": [
    "a='bangla'\n",
    "b='desh'"
   ]
  },
  {
   "cell_type": "code",
   "execution_count": 7,
   "id": "c1e3db94",
   "metadata": {},
   "outputs": [
    {
     "data": {
      "text/plain": [
       "str"
      ]
     },
     "execution_count": 7,
     "metadata": {},
     "output_type": "execute_result"
    }
   ],
   "source": [
    "type(a)"
   ]
  },
  {
   "cell_type": "code",
   "execution_count": 8,
   "id": "10d48559",
   "metadata": {},
   "outputs": [
    {
     "data": {
      "text/plain": [
       "str"
      ]
     },
     "execution_count": 8,
     "metadata": {},
     "output_type": "execute_result"
    }
   ],
   "source": [
    "type(b)"
   ]
  },
  {
   "cell_type": "code",
   "execution_count": 9,
   "id": "a0e60255",
   "metadata": {},
   "outputs": [
    {
     "ename": "SyntaxError",
     "evalue": "invalid syntax (Temp/ipykernel_7376/643137274.py, line 1)",
     "output_type": "error",
     "traceback": [
      "\u001b[1;36m  File \u001b[1;32m\"C:\\Users\\WIN\\AppData\\Local\\Temp/ipykernel_7376/643137274.py\"\u001b[1;36m, line \u001b[1;32m1\u001b[0m\n\u001b[1;33m    c='Bangladesh is my 'mother land',I love her very much.'\u001b[0m\n\u001b[1;37m                         ^\u001b[0m\n\u001b[1;31mSyntaxError\u001b[0m\u001b[1;31m:\u001b[0m invalid syntax\n"
     ]
    }
   ],
   "source": [
    "c='Bangladesh is my 'mother land',I love her very much.'"
   ]
  },
  {
   "cell_type": "code",
   "execution_count": 10,
   "id": "fa490613",
   "metadata": {},
   "outputs": [],
   "source": [
    "c='Bangladesh is my \"mother land\",I love her very much.'"
   ]
  },
  {
   "cell_type": "code",
   "execution_count": 11,
   "id": "cd2d768f",
   "metadata": {},
   "outputs": [
    {
     "data": {
      "text/plain": [
       "'Bangladesh is my \"mother land\",I love her very much.'"
      ]
     },
     "execution_count": 11,
     "metadata": {},
     "output_type": "execute_result"
    }
   ],
   "source": [
    "c"
   ]
  },
  {
   "cell_type": "code",
   "execution_count": 12,
   "id": "431dfcec",
   "metadata": {},
   "outputs": [],
   "source": [
    "c=\"Bangladesh is my 'mother land',I love her very much.\""
   ]
  },
  {
   "cell_type": "code",
   "execution_count": 13,
   "id": "9b0d7ca7",
   "metadata": {},
   "outputs": [
    {
     "data": {
      "text/plain": [
       "\"Bangladesh is my 'mother land',I love her very much.\""
      ]
     },
     "execution_count": 13,
     "metadata": {},
     "output_type": "execute_result"
    }
   ],
   "source": [
    "c"
   ]
  },
  {
   "cell_type": "code",
   "execution_count": 14,
   "id": "4f95d88d",
   "metadata": {},
   "outputs": [
    {
     "data": {
      "text/plain": [
       "'bangla'"
      ]
     },
     "execution_count": 14,
     "metadata": {},
     "output_type": "execute_result"
    }
   ],
   "source": [
    "a"
   ]
  },
  {
   "cell_type": "code",
   "execution_count": 15,
   "id": "89600e60",
   "metadata": {},
   "outputs": [],
   "source": [
    "c='Bangladesh is my \\'mother land\\',I love her very much.'"
   ]
  },
  {
   "cell_type": "code",
   "execution_count": 16,
   "id": "74941eac",
   "metadata": {},
   "outputs": [
    {
     "data": {
      "text/plain": [
       "\"Bangladesh is my 'mother land',I love her very much.\""
      ]
     },
     "execution_count": 16,
     "metadata": {},
     "output_type": "execute_result"
    }
   ],
   "source": [
    "c"
   ]
  },
  {
   "cell_type": "code",
   "execution_count": 17,
   "id": "579b638c",
   "metadata": {},
   "outputs": [
    {
     "data": {
      "text/plain": [
       "'bangla'"
      ]
     },
     "execution_count": 17,
     "metadata": {},
     "output_type": "execute_result"
    }
   ],
   "source": [
    "a"
   ]
  },
  {
   "cell_type": "code",
   "execution_count": 18,
   "id": "acb9a35e",
   "metadata": {},
   "outputs": [
    {
     "data": {
      "text/plain": [
       "'desh'"
      ]
     },
     "execution_count": 18,
     "metadata": {},
     "output_type": "execute_result"
    }
   ],
   "source": [
    "b"
   ]
  },
  {
   "cell_type": "code",
   "execution_count": 19,
   "id": "0e13b18f",
   "metadata": {},
   "outputs": [
    {
     "data": {
      "text/plain": [
       "'b'"
      ]
     },
     "execution_count": 19,
     "metadata": {},
     "output_type": "execute_result"
    }
   ],
   "source": [
    "a[0]"
   ]
  },
  {
   "cell_type": "code",
   "execution_count": 20,
   "id": "35b807c9",
   "metadata": {},
   "outputs": [
    {
     "data": {
      "text/plain": [
       "'a'"
      ]
     },
     "execution_count": 20,
     "metadata": {},
     "output_type": "execute_result"
    }
   ],
   "source": [
    "a[1]"
   ]
  },
  {
   "cell_type": "code",
   "execution_count": 21,
   "id": "4c39e84d",
   "metadata": {},
   "outputs": [
    {
     "data": {
      "text/plain": [
       "'a'"
      ]
     },
     "execution_count": 21,
     "metadata": {},
     "output_type": "execute_result"
    }
   ],
   "source": [
    "a[5]"
   ]
  },
  {
   "cell_type": "code",
   "execution_count": 22,
   "id": "b834cf81",
   "metadata": {},
   "outputs": [
    {
     "data": {
      "text/plain": [
       "'l'"
      ]
     },
     "execution_count": 22,
     "metadata": {},
     "output_type": "execute_result"
    }
   ],
   "source": [
    "a[4]"
   ]
  },
  {
   "cell_type": "code",
   "execution_count": 23,
   "id": "34ba46fa",
   "metadata": {},
   "outputs": [
    {
     "data": {
      "text/plain": [
       "'ngla'"
      ]
     },
     "execution_count": 23,
     "metadata": {},
     "output_type": "execute_result"
    }
   ],
   "source": [
    "a[2:]"
   ]
  },
  {
   "cell_type": "code",
   "execution_count": 24,
   "id": "e67d120b",
   "metadata": {},
   "outputs": [
    {
     "data": {
      "text/plain": [
       "'ba'"
      ]
     },
     "execution_count": 24,
     "metadata": {},
     "output_type": "execute_result"
    }
   ],
   "source": [
    "a[:2]"
   ]
  },
  {
   "cell_type": "code",
   "execution_count": 25,
   "id": "8e9dd35b",
   "metadata": {},
   "outputs": [
    {
     "data": {
      "text/plain": [
       "'ng'"
      ]
     },
     "execution_count": 25,
     "metadata": {},
     "output_type": "execute_result"
    }
   ],
   "source": [
    "a[2:4]"
   ]
  },
  {
   "cell_type": "code",
   "execution_count": 26,
   "id": "c6c30fb5",
   "metadata": {},
   "outputs": [
    {
     "data": {
      "text/plain": [
       "'a'"
      ]
     },
     "execution_count": 26,
     "metadata": {},
     "output_type": "execute_result"
    }
   ],
   "source": [
    "a[-1]"
   ]
  },
  {
   "cell_type": "code",
   "execution_count": 27,
   "id": "c6935e1b",
   "metadata": {},
   "outputs": [
    {
     "data": {
      "text/plain": [
       "'l'"
      ]
     },
     "execution_count": 27,
     "metadata": {},
     "output_type": "execute_result"
    }
   ],
   "source": [
    "a[-2]"
   ]
  },
  {
   "cell_type": "code",
   "execution_count": 28,
   "id": "77b64c80",
   "metadata": {},
   "outputs": [
    {
     "data": {
      "text/plain": [
       "'bangla'"
      ]
     },
     "execution_count": 28,
     "metadata": {},
     "output_type": "execute_result"
    }
   ],
   "source": [
    "a\n"
   ]
  },
  {
   "cell_type": "code",
   "execution_count": 29,
   "id": "581e9453",
   "metadata": {},
   "outputs": [
    {
     "name": "stdout",
     "output_type": "stream",
     "text": [
      "My favourite language is bangla\n"
     ]
    }
   ],
   "source": [
    "print(\"My favourite language is\",a)"
   ]
  },
  {
   "cell_type": "markdown",
   "id": "bb6d388f",
   "metadata": {},
   "source": [
    "# string format"
   ]
  },
  {
   "cell_type": "code",
   "execution_count": 30,
   "id": "4478c525",
   "metadata": {},
   "outputs": [],
   "source": [
    "a='bangla'"
   ]
  },
  {
   "cell_type": "code",
   "execution_count": 31,
   "id": "10f8b5ae",
   "metadata": {},
   "outputs": [
    {
     "name": "stdout",
     "output_type": "stream",
     "text": [
      "My favourite language is: bangla\n"
     ]
    }
   ],
   "source": [
    "print(\"My favourite language is: %s\" %a)"
   ]
  },
  {
   "cell_type": "code",
   "execution_count": 32,
   "id": "fbc36c5b",
   "metadata": {},
   "outputs": [
    {
     "name": "stdout",
     "output_type": "stream",
     "text": [
      "My favorite language is: bangla\n"
     ]
    }
   ],
   "source": [
    " print('My favorite language is: %s' %a)"
   ]
  },
  {
   "cell_type": "code",
   "execution_count": 33,
   "id": "b1f580b7",
   "metadata": {},
   "outputs": [
    {
     "name": "stdout",
     "output_type": "stream",
     "text": [
      "My favourite language is: bangla\n"
     ]
    }
   ],
   "source": [
    "print('My favourite language is: %s' %a)"
   ]
  },
  {
   "cell_type": "code",
   "execution_count": 34,
   "id": "3c8b4ddf",
   "metadata": {},
   "outputs": [],
   "source": [
    "pi=3.141695"
   ]
  },
  {
   "cell_type": "code",
   "execution_count": 35,
   "id": "3525f284",
   "metadata": {},
   "outputs": [
    {
     "name": "stdout",
     "output_type": "stream",
     "text": [
      "3.141695\n"
     ]
    }
   ],
   "source": [
    "print(pi)"
   ]
  },
  {
   "cell_type": "code",
   "execution_count": 36,
   "id": "9650de81",
   "metadata": {},
   "outputs": [
    {
     "name": "stdout",
     "output_type": "stream",
     "text": [
      "3.14\n"
     ]
    }
   ],
   "source": [
    "print('%.2f' %pi)"
   ]
  },
  {
   "cell_type": "code",
   "execution_count": 37,
   "id": "49bcd4ab",
   "metadata": {},
   "outputs": [
    {
     "name": "stdout",
     "output_type": "stream",
     "text": [
      "The value of pi is = 3.14\n"
     ]
    }
   ],
   "source": [
    "print('The value of pi is = %.2f' %pi)"
   ]
  },
  {
   "cell_type": "code",
   "execution_count": 39,
   "id": "5974f649",
   "metadata": {},
   "outputs": [
    {
     "name": "stdout",
     "output_type": "stream",
     "text": [
      "M L\n",
      "D L\n"
     ]
    }
   ],
   "source": [
    "a=input()\n",
    "b=input()"
   ]
  },
  {
   "cell_type": "code",
   "execution_count": 40,
   "id": "8f927807",
   "metadata": {},
   "outputs": [
    {
     "name": "stdout",
     "output_type": "stream",
     "text": [
      "My favourite courses are: M L and D L\n"
     ]
    }
   ],
   "source": [
    "print('My favourite courses are:',a,'and',b)"
   ]
  },
  {
   "cell_type": "code",
   "execution_count": 41,
   "id": "6d647e2a",
   "metadata": {},
   "outputs": [
    {
     "name": "stdout",
     "output_type": "stream",
     "text": [
      "My favourite courses are:M L D L\n"
     ]
    }
   ],
   "source": [
    "print('My favourite courses are:%s %s' %(a,b))"
   ]
  },
  {
   "cell_type": "code",
   "execution_count": 42,
   "id": "2f26cddf",
   "metadata": {},
   "outputs": [
    {
     "name": "stdout",
     "output_type": "stream",
     "text": [
      "My favourite courses are:M L and D L\n"
     ]
    }
   ],
   "source": [
    "print('My favourite courses are:%s and %s' %(a,b))"
   ]
  },
  {
   "cell_type": "code",
   "execution_count": 43,
   "id": "06d24f32",
   "metadata": {},
   "outputs": [],
   "source": [
    "x='Uzzal'\n",
    "y='Kumar'\n",
    "z='Ratul'"
   ]
  },
  {
   "cell_type": "code",
   "execution_count": 44,
   "id": "f0ca5e01",
   "metadata": {},
   "outputs": [
    {
     "data": {
      "text/plain": [
       "'UzzalKumarRatul'"
      ]
     },
     "execution_count": 44,
     "metadata": {},
     "output_type": "execute_result"
    }
   ],
   "source": [
    "x+y+z"
   ]
  },
  {
   "cell_type": "code",
   "execution_count": 45,
   "id": "5705783e",
   "metadata": {},
   "outputs": [
    {
     "data": {
      "text/plain": [
       "'Uzzal-Kumar-Ratul'"
      ]
     },
     "execution_count": 45,
     "metadata": {},
     "output_type": "execute_result"
    }
   ],
   "source": [
    "x+'-'+y+'-'+z"
   ]
  },
  {
   "cell_type": "code",
   "execution_count": 46,
   "id": "4d5e946e",
   "metadata": {},
   "outputs": [
    {
     "data": {
      "text/plain": [
       "'Uzzal-Kumar-Ratul'"
      ]
     },
     "execution_count": 46,
     "metadata": {},
     "output_type": "execute_result"
    }
   ],
   "source": [
    "'-'.join((x,y,z))"
   ]
  },
  {
   "cell_type": "code",
   "execution_count": 47,
   "id": "187ad859",
   "metadata": {},
   "outputs": [
    {
     "ename": "TypeError",
     "evalue": "str.join() takes exactly one argument (3 given)",
     "output_type": "error",
     "traceback": [
      "\u001b[1;31m---------------------------------------------------------------------------\u001b[0m",
      "\u001b[1;31mTypeError\u001b[0m                                 Traceback (most recent call last)",
      "\u001b[1;32m~\\AppData\\Local\\Temp/ipykernel_7376/855783647.py\u001b[0m in \u001b[0;36m<module>\u001b[1;34m\u001b[0m\n\u001b[1;32m----> 1\u001b[1;33m \u001b[1;34m'-'\u001b[0m\u001b[1;33m.\u001b[0m\u001b[0mjoin\u001b[0m\u001b[1;33m(\u001b[0m\u001b[0mx\u001b[0m\u001b[1;33m,\u001b[0m\u001b[0my\u001b[0m\u001b[1;33m,\u001b[0m\u001b[0mz\u001b[0m\u001b[1;33m)\u001b[0m\u001b[1;33m\u001b[0m\u001b[1;33m\u001b[0m\u001b[0m\n\u001b[0m",
      "\u001b[1;31mTypeError\u001b[0m: str.join() takes exactly one argument (3 given)"
     ]
    }
   ],
   "source": [
    "'-'.join(x,y,z)"
   ]
  },
  {
   "cell_type": "code",
   "execution_count": 48,
   "id": "154ab17d",
   "metadata": {},
   "outputs": [
    {
     "data": {
      "text/plain": [
       "'Uzzal Kumar Ratul'"
      ]
     },
     "execution_count": 48,
     "metadata": {},
     "output_type": "execute_result"
    }
   ],
   "source": [
    "\" \".join((x,y,z))"
   ]
  },
  {
   "cell_type": "code",
   "execution_count": 49,
   "id": "b58c627d",
   "metadata": {},
   "outputs": [],
   "source": [
    "a='bangla'\n",
    "b='desh'"
   ]
  },
  {
   "cell_type": "code",
   "execution_count": 50,
   "id": "6dbabdd2",
   "metadata": {},
   "outputs": [
    {
     "data": {
      "text/plain": [
       "'Bangla'"
      ]
     },
     "execution_count": 50,
     "metadata": {},
     "output_type": "execute_result"
    }
   ],
   "source": [
    "a.capitalize()"
   ]
  },
  {
   "cell_type": "code",
   "execution_count": 51,
   "id": "e4590dc0",
   "metadata": {},
   "outputs": [
    {
     "data": {
      "text/plain": [
       "'BANGLA'"
      ]
     },
     "execution_count": 51,
     "metadata": {},
     "output_type": "execute_result"
    }
   ],
   "source": [
    "a.upper()"
   ]
  },
  {
   "cell_type": "code",
   "execution_count": 52,
   "id": "e8e0b19e",
   "metadata": {},
   "outputs": [
    {
     "data": {
      "text/plain": [
       "\"Bangladesh is my 'mother land',I love her very much.\""
      ]
     },
     "execution_count": 52,
     "metadata": {},
     "output_type": "execute_result"
    }
   ],
   "source": [
    "c"
   ]
  },
  {
   "cell_type": "code",
   "execution_count": 53,
   "id": "f6b956b5",
   "metadata": {},
   "outputs": [],
   "source": [
    "d='Bangladesh is my mother land.I love her very much.'"
   ]
  },
  {
   "cell_type": "code",
   "execution_count": 54,
   "id": "1d59052b",
   "metadata": {},
   "outputs": [
    {
     "data": {
      "text/plain": [
       "'Bangladesh Is My Mother Land.I Love Her Very Much.'"
      ]
     },
     "execution_count": 54,
     "metadata": {},
     "output_type": "execute_result"
    }
   ],
   "source": [
    "d.title()"
   ]
  },
  {
   "cell_type": "code",
   "execution_count": 55,
   "id": "bc3aa17a",
   "metadata": {},
   "outputs": [
    {
     "data": {
      "text/plain": [
       "'bangla'"
      ]
     },
     "execution_count": 55,
     "metadata": {},
     "output_type": "execute_result"
    }
   ],
   "source": [
    "a"
   ]
  },
  {
   "cell_type": "code",
   "execution_count": 56,
   "id": "dca3e9fb",
   "metadata": {},
   "outputs": [
    {
     "data": {
      "text/plain": [
       "'bangla'"
      ]
     },
     "execution_count": 56,
     "metadata": {},
     "output_type": "execute_result"
    }
   ],
   "source": [
    "'Bangla'.lower()"
   ]
  },
  {
   "cell_type": "code",
   "execution_count": 57,
   "id": "fd0eb28e",
   "metadata": {},
   "outputs": [
    {
     "data": {
      "text/plain": [
       "'bangla'"
      ]
     },
     "execution_count": 57,
     "metadata": {},
     "output_type": "execute_result"
    }
   ],
   "source": [
    "'BANGLA'.casefold()"
   ]
  },
  {
   "cell_type": "code",
   "execution_count": 58,
   "id": "2489b223",
   "metadata": {},
   "outputs": [
    {
     "data": {
      "text/plain": [
       "'BANGLA'"
      ]
     },
     "execution_count": 58,
     "metadata": {},
     "output_type": "execute_result"
    }
   ],
   "source": [
    "a.swapcase()"
   ]
  },
  {
   "cell_type": "code",
   "execution_count": 59,
   "id": "7de8d8cb",
   "metadata": {},
   "outputs": [
    {
     "data": {
      "text/plain": [
       "6"
      ]
     },
     "execution_count": 59,
     "metadata": {},
     "output_type": "execute_result"
    }
   ],
   "source": [
    "len(a)"
   ]
  },
  {
   "cell_type": "code",
   "execution_count": 60,
   "id": "4816602a",
   "metadata": {},
   "outputs": [
    {
     "ename": "TypeError",
     "evalue": "count() takes at least 1 argument (0 given)",
     "output_type": "error",
     "traceback": [
      "\u001b[1;31m---------------------------------------------------------------------------\u001b[0m",
      "\u001b[1;31mTypeError\u001b[0m                                 Traceback (most recent call last)",
      "\u001b[1;32m~\\AppData\\Local\\Temp/ipykernel_7376/4086721465.py\u001b[0m in \u001b[0;36m<module>\u001b[1;34m\u001b[0m\n\u001b[1;32m----> 1\u001b[1;33m \u001b[0ma\u001b[0m\u001b[1;33m.\u001b[0m\u001b[0mcount\u001b[0m\u001b[1;33m(\u001b[0m\u001b[1;33m)\u001b[0m\u001b[1;33m\u001b[0m\u001b[1;33m\u001b[0m\u001b[0m\n\u001b[0m",
      "\u001b[1;31mTypeError\u001b[0m: count() takes at least 1 argument (0 given)"
     ]
    }
   ],
   "source": [
    "a.count()"
   ]
  },
  {
   "cell_type": "code",
   "execution_count": 61,
   "id": "5109797a",
   "metadata": {},
   "outputs": [
    {
     "data": {
      "text/plain": [
       "1"
      ]
     },
     "execution_count": 61,
     "metadata": {},
     "output_type": "execute_result"
    }
   ],
   "source": [
    "a.count('g')"
   ]
  },
  {
   "cell_type": "code",
   "execution_count": 62,
   "id": "33fb98c7",
   "metadata": {},
   "outputs": [],
   "source": [
    "sentence='How can a cram in a clean cream can?'"
   ]
  },
  {
   "cell_type": "code",
   "execution_count": 63,
   "id": "1ecdc148",
   "metadata": {},
   "outputs": [
    {
     "data": {
      "text/plain": [
       "36"
      ]
     },
     "execution_count": 63,
     "metadata": {},
     "output_type": "execute_result"
    }
   ],
   "source": [
    "len(sentence)"
   ]
  },
  {
   "cell_type": "code",
   "execution_count": 64,
   "id": "50e5c553",
   "metadata": {},
   "outputs": [
    {
     "data": {
      "text/plain": [
       "5"
      ]
     },
     "execution_count": 64,
     "metadata": {},
     "output_type": "execute_result"
    }
   ],
   "source": [
    "sentence.count('c')"
   ]
  },
  {
   "cell_type": "code",
   "execution_count": 65,
   "id": "c22e74b2",
   "metadata": {},
   "outputs": [
    {
     "data": {
      "text/plain": [
       "4"
      ]
     },
     "execution_count": 65,
     "metadata": {},
     "output_type": "execute_result"
    }
   ],
   "source": [
    "sentence.count('c',5)"
   ]
  },
  {
   "cell_type": "code",
   "execution_count": 66,
   "id": "45ca5c63",
   "metadata": {},
   "outputs": [
    {
     "data": {
      "text/plain": [
       "5"
      ]
     },
     "execution_count": 66,
     "metadata": {},
     "output_type": "execute_result"
    }
   ],
   "source": [
    "sentence.count('c',1)"
   ]
  },
  {
   "cell_type": "code",
   "execution_count": 67,
   "id": "fbc39b49",
   "metadata": {},
   "outputs": [
    {
     "data": {
      "text/plain": [
       "10"
      ]
     },
     "execution_count": 67,
     "metadata": {},
     "output_type": "execute_result"
    }
   ],
   "source": [
    "sentence.find('c',5)"
   ]
  },
  {
   "cell_type": "code",
   "execution_count": 68,
   "id": "d3b3348b",
   "metadata": {},
   "outputs": [
    {
     "data": {
      "text/plain": [
       "4"
      ]
     },
     "execution_count": 68,
     "metadata": {},
     "output_type": "execute_result"
    }
   ],
   "source": [
    "sentence.index('c')"
   ]
  },
  {
   "cell_type": "code",
   "execution_count": 69,
   "id": "63e06a5b",
   "metadata": {},
   "outputs": [
    {
     "data": {
      "text/plain": [
       "-1"
      ]
     },
     "execution_count": 69,
     "metadata": {},
     "output_type": "execute_result"
    }
   ],
   "source": [
    "sentence.find('x')"
   ]
  },
  {
   "cell_type": "code",
   "execution_count": 70,
   "id": "30feb415",
   "metadata": {},
   "outputs": [
    {
     "ename": "ValueError",
     "evalue": "substring not found",
     "output_type": "error",
     "traceback": [
      "\u001b[1;31m---------------------------------------------------------------------------\u001b[0m",
      "\u001b[1;31mValueError\u001b[0m                                Traceback (most recent call last)",
      "\u001b[1;32m~\\AppData\\Local\\Temp/ipykernel_7376/919720846.py\u001b[0m in \u001b[0;36m<module>\u001b[1;34m\u001b[0m\n\u001b[1;32m----> 1\u001b[1;33m \u001b[0msentence\u001b[0m\u001b[1;33m.\u001b[0m\u001b[0mindex\u001b[0m\u001b[1;33m(\u001b[0m\u001b[1;34m'x'\u001b[0m\u001b[1;33m)\u001b[0m\u001b[1;33m\u001b[0m\u001b[1;33m\u001b[0m\u001b[0m\n\u001b[0m",
      "\u001b[1;31mValueError\u001b[0m: substring not found"
     ]
    }
   ],
   "source": [
    "sentence.index('x')"
   ]
  },
  {
   "cell_type": "code",
   "execution_count": 71,
   "id": "6ce1499d",
   "metadata": {},
   "outputs": [],
   "source": [
    "sentence='How can a clam cram in a clean cream can?'"
   ]
  },
  {
   "cell_type": "code",
   "execution_count": 72,
   "id": "549c31fa",
   "metadata": {},
   "outputs": [
    {
     "data": {
      "text/plain": [
       "'How dan a dlam dram in a dlean dream dan?'"
      ]
     },
     "execution_count": 72,
     "metadata": {},
     "output_type": "execute_result"
    }
   ],
   "source": [
    "sentence.replace('c','d')"
   ]
  },
  {
   "cell_type": "code",
   "execution_count": 73,
   "id": "36d6ce1c",
   "metadata": {},
   "outputs": [
    {
     "data": {
      "text/plain": [
       "'How can a clam cram in a clean cream can '"
      ]
     },
     "execution_count": 73,
     "metadata": {},
     "output_type": "execute_result"
    }
   ],
   "source": [
    "sentence.replace('?',' ')"
   ]
  },
  {
   "cell_type": "code",
   "execution_count": 74,
   "id": "fa8336a9",
   "metadata": {},
   "outputs": [
    {
     "data": {
      "text/plain": [
       "'How can a clam cram in a clean cream can'"
      ]
     },
     "execution_count": 74,
     "metadata": {},
     "output_type": "execute_result"
    }
   ],
   "source": [
    "sentence.strip('?')"
   ]
  },
  {
   "cell_type": "code",
   "execution_count": 75,
   "id": "271c1a61",
   "metadata": {},
   "outputs": [
    {
     "data": {
      "text/plain": [
       "['How', 'can', 'a', 'clam', 'cram', 'in', 'a', 'clean', 'cream', 'can?']"
      ]
     },
     "execution_count": 75,
     "metadata": {},
     "output_type": "execute_result"
    }
   ],
   "source": [
    "sentence.split()"
   ]
  },
  {
   "cell_type": "code",
   "execution_count": 76,
   "id": "8add8687",
   "metadata": {},
   "outputs": [
    {
     "name": "stdout",
     "output_type": "stream",
     "text": [
      "Value of a=10, Value of b=50\n"
     ]
    }
   ],
   "source": [
    "a=10\n",
    "b=50\n",
    "print(\"Value of a={}, Value of b={}\".format(a,b))"
   ]
  },
  {
   "cell_type": "code",
   "execution_count": 77,
   "id": "f5584506",
   "metadata": {},
   "outputs": [
    {
     "name": "stdout",
     "output_type": "stream",
     "text": [
      "Value of a=10, Value of b=50\n"
     ]
    }
   ],
   "source": [
    "a=10\n",
    "b=50\n",
    "s=\"Value of a={}, Value of b={}\"\n",
    "print(s.format(a,b))"
   ]
  },
  {
   "cell_type": "code",
   "execution_count": 78,
   "id": "0d40971d",
   "metadata": {},
   "outputs": [
    {
     "name": "stdout",
     "output_type": "stream",
     "text": [
      "Value of a=50, Value of b=10\n"
     ]
    }
   ],
   "source": [
    "a=10\n",
    "b=50\n",
    "print(\"Value of a={1}, Value of b={0}\".format(a,b))"
   ]
  },
  {
   "cell_type": "code",
   "execution_count": 79,
   "id": "db6607af",
   "metadata": {},
   "outputs": [
    {
     "name": "stdout",
     "output_type": "stream",
     "text": [
      "Value of a=10, Value of b=50\n"
     ]
    }
   ],
   "source": [
    "a=10\n",
    "b=50\n",
    "print(\"Value of a={1}, Value of b={0}\".format(b,a))"
   ]
  },
  {
   "cell_type": "code",
   "execution_count": 80,
   "id": "1056b70f",
   "metadata": {},
   "outputs": [
    {
     "name": "stdout",
     "output_type": "stream",
     "text": [
      " Developer name of Python programming is Guido van Rossum!\n"
     ]
    }
   ],
   "source": [
    "name  = \"Guido van Rossum\"\n",
    "print (' Developer name of Python programming is {}!' .format(name))\n"
   ]
  },
  {
   "cell_type": "code",
   "execution_count": 81,
   "id": "b9e2923f",
   "metadata": {},
   "outputs": [
    {
     "name": "stdout",
     "output_type": "stream",
     "text": [
      " Developer name of Python programming is Guido van Rossum!\n"
     ]
    }
   ],
   "source": [
    "name  = \"Guido van Rossum\"\n",
    "print (\" Developer name of Python programming is {}!\" .format(name))\n"
   ]
  },
  {
   "cell_type": "code",
   "execution_count": 82,
   "id": "395d306c",
   "metadata": {},
   "outputs": [
    {
     "name": "stdout",
     "output_type": "stream",
     "text": [
      "My List [1, 2, 3, 4]\n"
     ]
    }
   ],
   "source": [
    "\n",
    "my_list = [ 1, 2, 3, 4]\n",
    "print (\"My List {}\" .format(my_list))"
   ]
  },
  {
   "cell_type": "code",
   "execution_count": 83,
   "id": "a35ce1c6",
   "metadata": {},
   "outputs": [
    {
     "name": "stdout",
     "output_type": "stream",
     "text": [
      "This\n",
      "is\n",
      "a\n",
      "string.\n"
     ]
    }
   ],
   "source": [
    "s = \"This is a string.\"\n",
    "words = s.split()\n",
    "for w in words:\n",
    "    print (w)"
   ]
  },
  {
   "cell_type": "code",
   "execution_count": 84,
   "id": "a25ab17e",
   "metadata": {},
   "outputs": [
    {
     "name": "stdout",
     "output_type": "stream",
     "text": [
      "This\n",
      "is\n",
      "a\n",
      "string.\n",
      "This-is-a-string.\n"
     ]
    }
   ],
   "source": [
    "\t\n",
    "s = \"This is a string.\"\n",
    "words = s.split()\n",
    "for w in words:\n",
    "    print (w)\n",
    " \n",
    "print ('-' .join(words))"
   ]
  },
  {
   "cell_type": "code",
   "execution_count": 85,
   "id": "38918af3",
   "metadata": {},
   "outputs": [
    {
     "name": "stdout",
     "output_type": "stream",
     "text": [
      "we found \"is\" in the string\n"
     ]
    }
   ],
   "source": [
    "s = \"This is a String!\"\n",
    "if s.find('is' ):\n",
    "    print ( 'we found \"is\" in the string')"
   ]
  },
  {
   "cell_type": "code",
   "execution_count": 86,
   "id": "3139728b",
   "metadata": {},
   "outputs": [
    {
     "data": {
      "text/plain": [
       "3"
      ]
     },
     "execution_count": 86,
     "metadata": {},
     "output_type": "execute_result"
    }
   ],
   "source": [
    "s.find(\"s\")"
   ]
  },
  {
   "cell_type": "code",
   "execution_count": 88,
   "id": "0b5892e2",
   "metadata": {},
   "outputs": [
    {
     "data": {
      "text/plain": [
       "6"
      ]
     },
     "execution_count": 88,
     "metadata": {},
     "output_type": "execute_result"
    }
   ],
   "source": [
    "s.find(\"s\",5)"
   ]
  },
  {
   "cell_type": "code",
   "execution_count": 89,
   "id": "37032595",
   "metadata": {},
   "outputs": [
    {
     "data": {
      "text/plain": [
       "-1"
      ]
     },
     "execution_count": 89,
     "metadata": {},
     "output_type": "execute_result"
    }
   ],
   "source": [
    "s.find(\"s\",7)"
   ]
  },
  {
   "cell_type": "code",
   "execution_count": 90,
   "id": "0bf4538d",
   "metadata": {},
   "outputs": [
    {
     "name": "stdout",
     "output_type": "stream",
     "text": [
      "I have 4.00 Rupees!\n"
     ]
    }
   ],
   "source": [
    "txt = \"I have {an:.2f} Rupees!\"\n",
    "print(txt.format(an = 4))"
   ]
  },
  {
   "cell_type": "code",
   "execution_count": 91,
   "id": "0f99b6bf",
   "metadata": {},
   "outputs": [
    {
     "name": "stdout",
     "output_type": "stream",
     "text": [
      "GeeksforGeeks, A computer science portal for geeks.\n",
      "This article is written in Python\n",
      "Hello, I am 18 years old !\n"
     ]
    }
   ],
   "source": [
    "# using format option in a simple string\n",
    "print(\"{}, A computer science portal for geeks.\"\n",
    "      .format(\"GeeksforGeeks\"))\n",
    " \n",
    "# using format option for a\n",
    "# value stored in a variable\n",
    "str = \"This article is written in {}\"\n",
    "print(str.format(\"Python\"))\n",
    " \n",
    "# formatting a string using a numeric constant\n",
    "print(\"Hello, I am {} years old !\".format(18))"
   ]
  },
  {
   "cell_type": "code",
   "execution_count": 92,
   "id": "d6b3b7b3",
   "metadata": {},
   "outputs": [
    {
     "name": "stdout",
     "output_type": "stream",
     "text": [
      "GeeksforGeeks, is a computer science portal for geeks\n",
      "Hi ! My name is User and I am 19 years old\n",
      "This is one two three four\n"
     ]
    }
   ],
   "source": [
    "# Multiple placeholders in format() function\n",
    "my_string = \"{}, is a {} science portal for {}\"\n",
    "print(my_string.format(\"GeeksforGeeks\", \"computer\", \"geeks\"))\n",
    "\n",
    "# different datatypes can be used in formatting\n",
    "print(\"Hi ! My name is {} and I am {} years old\"\n",
    "\t.format(\"User\", 19))\n",
    "\n",
    "# The values passed as parameters\n",
    "# are replaced in order of their entry\n",
    "print(\"This is {} {} {} {}\"\n",
    "\t.format(\"one\", \"two\", \"three\", \"four\"))\n"
   ]
  },
  {
   "cell_type": "code",
   "execution_count": 93,
   "id": "6e57e43f",
   "metadata": {},
   "outputs": [
    {
     "ename": "IndexError",
     "evalue": "Replacement index 3 out of range for positional args tuple",
     "output_type": "error",
     "traceback": [
      "\u001b[1;31m---------------------------------------------------------------------------\u001b[0m",
      "\u001b[1;31mIndexError\u001b[0m                                Traceback (most recent call last)",
      "\u001b[1;32m~\\AppData\\Local\\Temp/ipykernel_7376/4027742412.py\u001b[0m in \u001b[0;36m<module>\u001b[1;34m\u001b[0m\n\u001b[0;32m      2\u001b[0m \u001b[0mmy_string\u001b[0m \u001b[1;33m=\u001b[0m \u001b[1;34m\"{}, is a {} {} science portal for {}\"\u001b[0m\u001b[1;33m\u001b[0m\u001b[1;33m\u001b[0m\u001b[0m\n\u001b[0;32m      3\u001b[0m \u001b[1;33m\u001b[0m\u001b[0m\n\u001b[1;32m----> 4\u001b[1;33m \u001b[0mprint\u001b[0m\u001b[1;33m(\u001b[0m\u001b[0mmy_string\u001b[0m\u001b[1;33m.\u001b[0m\u001b[0mformat\u001b[0m\u001b[1;33m(\u001b[0m\u001b[1;34m\"GeeksforGeeks\"\u001b[0m\u001b[1;33m,\u001b[0m \u001b[1;34m\"computer\"\u001b[0m\u001b[1;33m,\u001b[0m \u001b[1;34m\"geeks\"\u001b[0m\u001b[1;33m)\u001b[0m\u001b[1;33m)\u001b[0m\u001b[1;33m\u001b[0m\u001b[1;33m\u001b[0m\u001b[0m\n\u001b[0m",
      "\u001b[1;31mIndexError\u001b[0m: Replacement index 3 out of range for positional args tuple"
     ]
    }
   ],
   "source": [
    "# parameters in format function.\n",
    "my_string = \"{}, is a {} {} science portal for {}\"\n",
    "\n",
    "print(my_string.format(\"GeeksforGeeks\", \"computer\", \"geeks\"))\n"
   ]
  },
  {
   "cell_type": "markdown",
   "id": "8fa51ef0",
   "metadata": {},
   "source": [
    "# Formatters with Positional and Keyword Arguments\n",
    "When placeholders { } are empty, Python will replace the values passed through str.format() in order. The values that exist within the str.format() method are essentially tuple data types and each individual value contained in the tuple can be called by its index number, which starts with the index number 0. These index numbers can be passed into the curly braces that serve as the placeholders in the original string."
   ]
  },
  {
   "cell_type": "markdown",
   "id": "129ab0b2",
   "metadata": {},
   "source": [
    "# Syntax : {0} {1}.format(positional_argument, keyword_argument)\n",
    "\n",
    "Parameters : (positional_argument, keyword_argument)\n",
    "\n",
    "Positional_argument can be integers, floating point numeric constants, strings, characters and even variables. \n",
    "Keyword_argument is essentially a variable storing some value, which is passed as parameter."
   ]
  },
  {
   "cell_type": "code",
   "execution_count": 98,
   "id": "695e57b6",
   "metadata": {},
   "outputs": [
    {
     "name": "stdout",
     "output_type": "stream",
     "text": [
      "Uzzal Kumar Ratul love Ratul!!\n",
      "Ratul love Uzzal Kumar Ratul!!\n",
      "Every programmer should know the use of Open Source programming and Operating Systems\n",
      "Every Operating Systems should know the use of Source Open programming and programmer\n",
      "Machine Learning  and Deep Learning is the Branch of AI\n"
     ]
    }
   ],
   "source": [
    "# Positional arguments\n",
    "# are placed in order\n",
    "print(\"{0} love {1}!!\".format(\"Uzzal Kumar Ratul\",\"Ratul\"))\n",
    "\n",
    "# Reverse the index numbers with the\n",
    "# parameters of the placeholders\n",
    "print(\"{1} love {0}!!\".format(\"Uzzal Kumar Ratul\",\"Ratul\"))\n",
    "\n",
    "\n",
    "print(\"Every {} should know the use of {} {} programming and {}\"\n",
    "\t.format(\"programmer\", \"Open\", \"Source\",\n",
    "\t\t\t\"Operating Systems\"))\n",
    "\n",
    "\n",
    "# Use the index numbers of the\n",
    "# values to change the order that\n",
    "# they appear in the string\n",
    "print(\"Every {3} should know the use of {2} {1} programming and {0}\"\n",
    "\t.format(\"programmer\", \"Open\", \"Source\", \"Operating Systems\"))\n",
    "\n",
    "\n",
    "# Keyword arguments are called\n",
    "# by their keyword name\n",
    "print(\"{ML}  and {} is the Branch of {}\"\n",
    "\t.format(\"Deep Learning\", \"AI\", ML=\"Machine Learning\"))\n"
   ]
  },
  {
   "cell_type": "markdown",
   "id": "9b376b6b",
   "metadata": {},
   "source": [
    "# Type Specifying In Python\n",
    "More parameters can be included within the curly braces of our syntax. Use the format code syntax {field_name: conversion}, where field_name specifies the index number of the argument to the str.format() method, and conversion refers to the conversion code of the data type."
   ]
  },
  {
   "cell_type": "code",
   "execution_count": 99,
   "id": "d0cc0ae4",
   "metadata": {},
   "outputs": [
    {
     "name": "stdout",
     "output_type": "stream",
     "text": [
      "  Uzzal Kumar Ratrul\n",
      "Interngeeks         \n",
      "Inter\n"
     ]
    }
   ],
   "source": [
    "print(\"%20s\" % ('Uzzal Kumar Ratrul', ))\n",
    "print(\"%-20s\" % ('Interngeeks', ))\n",
    "print(\"%.5s\" % ('Interngeeks', ))\n"
   ]
  },
  {
   "cell_type": "code",
   "execution_count": 105,
   "id": "44f4ca5d",
   "metadata": {},
   "outputs": [
    {
     "name": "stdout",
     "output_type": "stream",
     "text": [
      "Uzzal\n",
      "In\n",
      "I\n"
     ]
    }
   ],
   "source": [
    "print(\"%.05s\" % ('Uzzal Kumar Ratrul'))\n",
    "print(\"%.2s\" % ('Interngeeks'))\n",
    "print(\"%.1s\" % ('Interngeeks'))\n"
   ]
  },
  {
   "cell_type": "code",
   "execution_count": 106,
   "id": "ceb7aa60",
   "metadata": {},
   "outputs": [
    {
     "name": "stdout",
     "output_type": "stream",
     "text": [
      "I wondered why the program was troubling me. Thenit dawned on me it was a bug .\n"
     ]
    }
   ],
   "source": [
    "type = 'bug'\n",
    "\n",
    "result = 'troubling'\n",
    "\n",
    "print('I wondered why the program was %s me. Then\\\n",
    "it dawned on me it was a %s .' %\n",
    "\t(result, type))\n"
   ]
  },
  {
   "cell_type": "code",
   "execution_count": 107,
   "id": "331fadc9",
   "metadata": {},
   "outputs": [
    {
     "name": "stdout",
     "output_type": "stream",
     "text": [
      "This site is 100.000000% securely encrypted!!\n",
      "My average of this semester was 78.23%\n",
      "My average of this semester was 78%\n",
      "The binary of 100 is 1100100\n",
      "The octal of 100 is 144\n"
     ]
    }
   ],
   "source": [
    "print(\"This site is {0:f}% securely {1}!!\".\n",
    "\tformat(100, \"encrypted\"))\n",
    "\n",
    "# To limit the precision\n",
    "print(\"My average of this {0} was {1:.2f}%\"\n",
    "\t.format(\"semester\", 78.234876))\n",
    "\n",
    "# For no decimal places\n",
    "print(\"My average of this {0} was {1:.0f}%\"\n",
    "\t.format(\"semester\", 78.234876))\n",
    "\n",
    "# Convert an integer to its binary or\n",
    "# with other different converted bases.\n",
    "print(\"The {0} of 100 is {1:b}\"\n",
    "\t.format(\"binary\", 100))\n",
    "\n",
    "print(\"The {0} of 100 is {1:o}\"\n",
    "\t.format(\"octal\", 100))\n"
   ]
  },
  {
   "cell_type": "code",
   "execution_count": 113,
   "id": "318b8655",
   "metadata": {},
   "outputs": [
    {
     "name": "stdout",
     "output_type": "stream",
     "text": [
      "This site is 100.0% securely encrypted!!\n"
     ]
    }
   ],
   "source": [
    "print(\"This site is {0:.1f}% securely {1}!!\".format(100, \"encrypted\"))\n",
    "\n"
   ]
  },
  {
   "cell_type": "code",
   "execution_count": 116,
   "id": "dc8c700d",
   "metadata": {},
   "outputs": [
    {
     "name": "stdout",
     "output_type": "stream",
     "text": [
      "My average of this semester was 78.23%\n"
     ]
    }
   ],
   "source": [
    "print(\"My average of this {0} was {1:.2f}%\".format(\"semester\", 78.234876))\n"
   ]
  },
  {
   "cell_type": "code",
   "execution_count": 123,
   "id": "9d7cf241",
   "metadata": {},
   "outputs": [
    {
     "name": "stdout",
     "output_type": "stream",
     "text": [
      "The binary of 100 is 1100100\n"
     ]
    }
   ],
   "source": [
    "print(\"The {0} of 100 is {1:b}\".format(\"binary\", 100))\n"
   ]
  },
  {
   "cell_type": "code",
   "execution_count": 124,
   "id": "65c9a47f",
   "metadata": {},
   "outputs": [
    {
     "name": "stdout",
     "output_type": "stream",
     "text": [
      "The octal of 100 is 144\n"
     ]
    }
   ],
   "source": [
    "print(\"The {0} of 100 is {1:o}\".format(\"octal\", 100))\n"
   ]
  },
  {
   "cell_type": "markdown",
   "id": "18628734",
   "metadata": {},
   "source": [
    "# Generating Spaces"
   ]
  },
  {
   "cell_type": "markdown",
   "id": "3747b0c4",
   "metadata": {},
   "source": [
    "\n",
    "Example: Demonstration of spacing when strings are passed as parameters\n",
    "By default, strings are left-justified within the field, and numbers are right-justified. \n",
    "We can modify this by placing an alignment code just following the colon.\n",
    "\n",
    "<   :  left-align text in the field\n",
    "^   :  center text in the field\n",
    ">   :  right-align text in the field"
   ]
  },
  {
   "cell_type": "code",
   "execution_count": 148,
   "id": "bd8c9e13",
   "metadata": {},
   "outputs": [
    {
     "name": "stdout",
     "output_type": "stream",
     "text": [
      "Uzzal Kumar Ratul, Love  the computer science portal for AI      !\n",
      "It is    40 degrees outside !\n",
      "GeeksforGeeks was founded in             2009!\n",
      " GeeksforGeeks   was founded in 2009!\n",
      "*******Geeks********\n"
     ]
    }
   ],
   "source": [
    "# To demonstrate spacing when\n",
    "# strings are passed as parameters\n",
    "print(\"{0:4}, Love  the computer science portal for {1:8}!\".format(\"Uzzal Kumar Ratul\", \"AI\"))\n",
    "\n",
    "# To demonstrate spacing when numeric\n",
    "# constants are passed as parameters.\n",
    "print(\"It is {0:5} degrees outside !\".format(40))\n",
    "\n",
    "# To demonstrate both string and numeric\n",
    "# constants passed as parameters\n",
    "print(\"{0:4} was founded in {1:16}!\".format(\"GeeksforGeeks\", 2009))\n",
    "\n",
    "\n",
    "# To demonstrate aligning of spaces\n",
    "print(\"{0:^16} was founded in {1:<4}!\".format(\"GeeksforGeeks\", 2009))\n",
    "\n",
    "print(\"{:*^20s}\".format(\"Geeks\"))\n"
   ]
  },
  {
   "cell_type": "code",
   "execution_count": 131,
   "id": "998992e5",
   "metadata": {},
   "outputs": [
    {
     "name": "stdout",
     "output_type": "stream",
     "text": [
      "GeeksforGeeks, is the computer science portal for geeks   !\n"
     ]
    }
   ],
   "source": [
    "print(\"{0}, is the computer science portal for {1:8}!\".format(\"GeeksforGeeks\", \"geeks\"))"
   ]
  },
  {
   "cell_type": "code",
   "execution_count": 132,
   "id": "8ddf5888",
   "metadata": {},
   "outputs": [
    {
     "name": "stdout",
     "output_type": "stream",
     "text": [
      "It is    40 degrees outside !\n"
     ]
    }
   ],
   "source": [
    "print(\"It is {0:5} degrees outside !\".format(40))"
   ]
  },
  {
   "cell_type": "code",
   "execution_count": 143,
   "id": "a84bc34b",
   "metadata": {},
   "outputs": [
    {
     "name": "stdout",
     "output_type": "stream",
     "text": [
      "GeeksforGeeks    was founded in       2009!\n"
     ]
    }
   ],
   "source": [
    "print(\"{0:16} was founded in {1:>10}!\".format(\"GeeksforGeeks\", 2009))"
   ]
  },
  {
   "cell_type": "code",
   "execution_count": 146,
   "id": "3fdb018a",
   "metadata": {},
   "outputs": [
    {
     "name": "stdout",
     "output_type": "stream",
     "text": [
      " GeeksforGeeks   was founded in 2009!\n"
     ]
    }
   ],
   "source": [
    "print(\"{0:^16} was founded in {1:<4}!\".format(\"GeeksforGeeks\", 2009))"
   ]
  },
  {
   "cell_type": "code",
   "execution_count": 150,
   "id": "8ea681c2",
   "metadata": {},
   "outputs": [
    {
     "name": "stdout",
     "output_type": "stream",
     "text": [
      "Enter lower range :-\n",
      "3\n",
      "Enter upper range :-\n",
      "10\n",
      "------Before Using Formatters-------\n",
      "3 9 27 81\n",
      "4 16 64 256\n",
      "5 25 125 625\n",
      "6 36 216 1296\n",
      "7 49 343 2401\n",
      "8 64 512 4096\n",
      "9 81 729 6561\n",
      "\n",
      "-------After Using Formatters---------\n",
      "\n",
      "     3      9     27     81\n",
      "     4     16     64    256\n",
      "     5     25    125    625\n",
      "     6     36    216   1296\n",
      "     7     49    343   2401\n",
      "     8     64    512   4096\n",
      "     9     81    729   6561\n"
     ]
    }
   ],
   "source": [
    "# which prints out i, i ^ 2, i ^ 3,\n",
    "# i ^ 4 in the given range\n",
    "\n",
    "# Function prints out values\n",
    "# in an unorganized manner\n",
    "def unorganized(a, b):\n",
    "\tfor i in range(a, b):\n",
    "\t\tprint(i, i**2, i**3, i**4)\n",
    "\n",
    "# Function prints the organized set of values\n",
    "def organized(a, b):\n",
    "\tfor i in range(a, b):\n",
    "\n",
    "\t\t# Using formatters to give 6  spaces to each set of values\n",
    "\t\tprint(\"{:6d} {:6d} {:6d} {:6d}\".format(i, i ** 2, i ** 3, i ** 4))\n",
    "\n",
    "# Driver Code\n",
    "n1 = int(input(\"Enter lower range :-\\n\"))\n",
    "n2 = int(input(\"Enter upper range :-\\n\"))\n",
    "\n",
    "print(\"------Before Using Formatters-------\")\n",
    "\n",
    "# Calling function without formatters\n",
    "unorganized(n1, n2)\n",
    "\n",
    "print()\n",
    "print(\"-------After Using Formatters---------\")\n",
    "print()\n",
    "\n",
    "# Calling function that contains\n",
    "# formatters to organize the data\n",
    "organized(n1, n2)\n"
   ]
  },
  {
   "cell_type": "code",
   "execution_count": 154,
   "id": "8f39b039",
   "metadata": {},
   "outputs": [
    {
     "name": "stdout",
     "output_type": "stream",
     "text": [
      "Initial String: \n",
      "Hello, I'm  Uzzal Kumar Ratul\n",
      "\n",
      "Updating character at 2nd Index: \n",
      "Heplo, I'm  Uzzal Kumar Ratul\n",
      "Heplo, I'm  Uzzal Kumar Ratul\n"
     ]
    }
   ],
   "source": [
    "# Python Program to Update character of a String\n",
    "\n",
    "String1 = \"Hello, I'm  Uzzal Kumar Ratul\"\n",
    "print(\"Initial String: \")\n",
    "print(String1)\n",
    "\n",
    "# Updating a character of the String\n",
    "## As python strings are immutable, they don't support item updation directly\n",
    "### there are following two ways\n",
    "#1\n",
    "list1 = list(String1)\n",
    "list1[2] = 'p'\n",
    "String2 = ''.join(list1)\n",
    "print(\"\\nUpdating character at 2nd Index: \")\n",
    "print(String2)\n",
    "\n",
    "#2\n",
    "String3 = String1[0:2] + 'p' + String1[3:]\n",
    "print(String3)\n"
   ]
  },
  {
   "cell_type": "code",
   "execution_count": 155,
   "id": "25daad36",
   "metadata": {},
   "outputs": [
    {
     "data": {
      "text/plain": [
       "['H',\n",
       " 'e',\n",
       " 'p',\n",
       " 'l',\n",
       " 'o',\n",
       " ',',\n",
       " ' ',\n",
       " 'I',\n",
       " \"'\",\n",
       " 'm',\n",
       " ' ',\n",
       " ' ',\n",
       " 'U',\n",
       " 'z',\n",
       " 'z',\n",
       " 'a',\n",
       " 'l',\n",
       " ' ',\n",
       " 'K',\n",
       " 'u',\n",
       " 'm',\n",
       " 'a',\n",
       " 'r',\n",
       " ' ',\n",
       " 'R',\n",
       " 'a',\n",
       " 't',\n",
       " 'u',\n",
       " 'l']"
      ]
     },
     "execution_count": 155,
     "metadata": {},
     "output_type": "execute_result"
    }
   ],
   "source": [
    "list1"
   ]
  },
  {
   "cell_type": "code",
   "execution_count": 156,
   "id": "1a873a7f",
   "metadata": {},
   "outputs": [
    {
     "name": "stdout",
     "output_type": "stream",
     "text": [
      "Initial String: \n",
      "Hello, I'm a Uzzal kumar Ratul\n",
      "\n",
      "Deleting character at 2nd Index: \n",
      "Helo, I'm a Uzzal kumar Ratul\n"
     ]
    }
   ],
   "source": [
    "# Python Program to Delete characters from a String\n",
    "\n",
    "String1 = \"Hello, I'm a Uzzal kumar Ratul\"\n",
    "print(\"Initial String: \")\n",
    "print(String1)\n",
    "\n",
    "# Deleting a character\n",
    "# of the String\n",
    "String2 = String1[0:2] + String1[3:]\n",
    "print(\"\\nDeleting character at 2nd Index: \")\n",
    "print(String2)\n"
   ]
  },
  {
   "cell_type": "code",
   "execution_count": 157,
   "id": "2cba1652",
   "metadata": {},
   "outputs": [
    {
     "name": "stdout",
     "output_type": "stream",
     "text": [
      "Initial String: \n",
      "Hello, I'm a Uzzal kumar Ratul\n",
      "\n",
      "Deleting entire String: \n"
     ]
    },
    {
     "ename": "NameError",
     "evalue": "name 'String1' is not defined",
     "output_type": "error",
     "traceback": [
      "\u001b[1;31m---------------------------------------------------------------------------\u001b[0m",
      "\u001b[1;31mNameError\u001b[0m                                 Traceback (most recent call last)",
      "\u001b[1;32m~\\AppData\\Local\\Temp/ipykernel_7376/1344145108.py\u001b[0m in \u001b[0;36m<module>\u001b[1;34m\u001b[0m\n\u001b[0;32m      9\u001b[0m \u001b[1;32mdel\u001b[0m \u001b[0mString1\u001b[0m\u001b[1;33m\u001b[0m\u001b[1;33m\u001b[0m\u001b[0m\n\u001b[0;32m     10\u001b[0m \u001b[0mprint\u001b[0m\u001b[1;33m(\u001b[0m\u001b[1;34m\"\\nDeleting entire String: \"\u001b[0m\u001b[1;33m)\u001b[0m\u001b[1;33m\u001b[0m\u001b[1;33m\u001b[0m\u001b[0m\n\u001b[1;32m---> 11\u001b[1;33m \u001b[0mprint\u001b[0m\u001b[1;33m(\u001b[0m\u001b[0mString1\u001b[0m\u001b[1;33m)\u001b[0m\u001b[1;33m\u001b[0m\u001b[1;33m\u001b[0m\u001b[0m\n\u001b[0m",
      "\u001b[1;31mNameError\u001b[0m: name 'String1' is not defined"
     ]
    }
   ],
   "source": [
    "# Python Program to Delete entire String\n",
    "\n",
    "String1 = \"Hello, I'm a Uzzal kumar Ratul\"\n",
    "print(\"Initial String: \")\n",
    "print(String1)\n",
    "\n",
    "# Deleting a String\n",
    "# with the use of del\n",
    "del String1\n",
    "print(\"\\nDeleting entire String: \")\n",
    "print(String1)\n"
   ]
  },
  {
   "cell_type": "code",
   "execution_count": 158,
   "id": "702fbd89",
   "metadata": {},
   "outputs": [
    {
     "name": "stdout",
     "output_type": "stream",
     "text": [
      "Print String in default order: \n",
      "Uzzal kumar Ratul\n",
      "\n",
      "Print String in Positional order: \n",
      "kumar Uzzal Ratul\n",
      "\n",
      "Print String in order of Keywords: \n",
      "Uzzal kumar Ratul\n"
     ]
    }
   ],
   "source": [
    "# Python Program for Formatting of Strings\n",
    "\n",
    "# Default order\n",
    "String1 = \"{} {} {}\".format('Uzzal', 'kumar', 'Ratul')\n",
    "print(\"Print String in default order: \")\n",
    "print(String1)\n",
    "\n",
    "# Positional Formatting\n",
    "String1 = \"{1} {0} {2}\".format('Uzzal', 'kumar', 'Ratul')\n",
    "print(\"\\nPrint String in Positional order: \")\n",
    "print(String1)\n",
    "\n",
    "# Keyword Formatting\n",
    "String1 = \"{l} {f} {g}\".format(l='Uzzal',f='kumar',g='Ratul')\n",
    "print(\"\\nPrint String in order of Keywords: \")\n",
    "print(String1)\n"
   ]
  },
  {
   "cell_type": "code",
   "execution_count": 159,
   "id": "40f86a45",
   "metadata": {},
   "outputs": [
    {
     "name": "stdout",
     "output_type": "stream",
     "text": [
      "\n",
      "Binary representation of 16 is \n",
      "10000\n",
      "\n",
      "Exponent representation of 165.6458 is \n",
      "1.656458e+02\n",
      "\n",
      "one-sixth is : \n",
      "0.17\n"
     ]
    }
   ],
   "source": [
    "# Formatting of Integers\n",
    "String1 = \"{0:b}\".format(16)\n",
    "print(\"\\nBinary representation of 16 is \")\n",
    "print(String1)\n",
    "\n",
    "# Formatting of Floats\n",
    "String1 = \"{0:e}\".format(165.6458)\n",
    "print(\"\\nExponent representation of 165.6458 is \")\n",
    "print(String1)\n",
    "\n",
    "# Rounding off Integers\n",
    "String1 = \"{0:.2f}\".format(1/6)\n",
    "print(\"\\none-sixth is : \")\n",
    "print(String1)\n"
   ]
  },
  {
   "cell_type": "code",
   "execution_count": null,
   "id": "0273a937",
   "metadata": {},
   "outputs": [],
   "source": [
    "\"\"\"Method\tDescription\n",
    "capitalize()\tConverts the first character to upper case\n",
    "casefold()\tConverts string into lower case\n",
    "center()\tReturns a centered string\n",
    "count()\tReturns the number of times a specified value occurs in a string\n",
    "encode()\tReturns an encoded version of the string\n",
    "endswith()\tReturns true if the string ends with the specified value\n",
    "expandtabs()\tSets the tab size of the string\n",
    "find()\tSearches the string for a specified value and returns the position of where it was found\n",
    "format()\tFormats specified values in a string\n",
    "format_map()\tFormats specified values in a string\n",
    "index()\tSearches the string for a specified value and returns the position of where it was found\n",
    "isalnum()\tReturns True if all characters in the string are alphanumeric\n",
    "isalpha()\tReturns True if all characters in the string are in the alphabet\n",
    "isascii()\tReturns True if all characters in the string are ascii characters\n",
    "isdecimal()\tReturns True if all characters in the string are decimals\n",
    "isdigit()\tReturns True if all characters in the string are digits\n",
    "isidentifier()\tReturns True if the string is an identifier\n",
    "islower()\tReturns True if all characters in the string are lower case\n",
    "isnumeric()\tReturns True if all characters in the string are numeric\n",
    "isprintable()\tReturns True if all characters in the string are printable\n",
    "isspace()\tReturns True if all characters in the string are whitespaces\n",
    "istitle()\tReturns True if the string follows the rules of a title\n",
    "isupper()\tReturns True if all characters in the string are upper case\n",
    "join()\tConverts the elements of an iterable into a string\n",
    "ljust()\tReturns a left justified version of the string\n",
    "lower()\tConverts a string into lower case\n",
    "lstrip()\tReturns a left trim version of the string\n",
    "maketrans()\tReturns a translation table to be used in translations\n",
    "partition()\tReturns a tuple where the string is parted into three parts\n",
    "replace()\tReturns a string where a specified value is replaced with a specified value\n",
    "rfind()\tSearches the string for a specified value and returns the last position of where it was found\n",
    "rindex()\tSearches the string for a specified value and returns the last position of where it was found\n",
    "rjust()\tReturns a right justified version of the string\n",
    "rpartition()\tReturns a tuple where the string is parted into three parts\n",
    "rsplit()\tSplits the string at the specified separator, and returns a list\n",
    "rstrip()\tReturns a right trim version of the string\n",
    "split()\tSplits the string at the specified separator, and returns a list\n",
    "splitlines()\tSplits the string at line breaks and returns a list\n",
    "startswith()\tReturns true if the string starts with the specified value\n",
    "strip()\tReturns a trimmed version of the string\n",
    "swapcase()\tSwaps cases, lower case becomes upper case and vice versa\n",
    "title()\tConverts the first character of each word to upper case\n",
    "translate()\tReturns a translated string\n",
    "upper()\tConverts a string into upper case\n",
    "zfill()\tFills the string with a specified number of 0 values at the beginning\"\"\""
   ]
  },
  {
   "cell_type": "code",
   "execution_count": null,
   "id": "51a01f3c",
   "metadata": {},
   "outputs": [],
   "source": [
    "\"\"\"Methods\tDescription\n",
    "upper()\tconverts the string to uppercase\n",
    "lower()\tconverts the string to lowercase\n",
    "partition()\treturns a tuple\n",
    "replace()\treplaces substring inside\n",
    "find()\treturns the index of first occurrence of substring\n",
    "rstrip()\tremoves trailing characters\n",
    "split()\tsplits string from left\n",
    "startswith()\tchecks if string starts with the specified string\n",
    "isnumeric()\tchecks numeric characters\n",
    "index()\treturns index of substring\"\"\""
   ]
  },
  {
   "cell_type": "code",
   "execution_count": 160,
   "id": "864ba0ab",
   "metadata": {},
   "outputs": [
    {
     "data": {
      "text/plain": [
       "'Uzzal Kumar Ratul'"
      ]
     },
     "execution_count": 160,
     "metadata": {},
     "output_type": "execute_result"
    }
   ],
   "source": [
    "\"uzzal Kumar ratul\".title()"
   ]
  },
  {
   "cell_type": "code",
   "execution_count": 163,
   "id": "f718466f",
   "metadata": {},
   "outputs": [
    {
     "ename": "NameError",
     "evalue": "name 'partition' is not defined",
     "output_type": "error",
     "traceback": [
      "\u001b[1;31m---------------------------------------------------------------------------\u001b[0m",
      "\u001b[1;31mNameError\u001b[0m                                 Traceback (most recent call last)",
      "\u001b[1;32m~\\AppData\\Local\\Temp/ipykernel_7376/43072712.py\u001b[0m in \u001b[0;36m<module>\u001b[1;34m\u001b[0m\n\u001b[1;32m----> 1\u001b[1;33m \u001b[0mpartition\u001b[0m\u001b[1;33m(\u001b[0m\u001b[1;34m\"uzzal Kumar ratul\"\u001b[0m\u001b[1;33m)\u001b[0m\u001b[1;33m\u001b[0m\u001b[1;33m\u001b[0m\u001b[0m\n\u001b[0m",
      "\u001b[1;31mNameError\u001b[0m: name 'partition' is not defined"
     ]
    }
   ],
   "source": []
  },
  {
   "cell_type": "markdown",
   "id": "8296df5d",
   "metadata": {},
   "source": [
    "# String Padding: Add Extra Character Elegantly\n",
    "String padding is a term to adding characters to the beginning or end of a string until it reaches a certain length. It can be useful in formatting text to align with other data or to make it easier to read.\n",
    "\n",
    "In Python, you can pad a string using the str.ljust(), str.rjust(), and str.center() methods."
   ]
  },
  {
   "cell_type": "code",
   "execution_count": 164,
   "id": "a052a215",
   "metadata": {},
   "outputs": [
    {
     "name": "stdout",
     "output_type": "stream",
     "text": [
      "Python    \n"
     ]
    }
   ],
   "source": [
    "text = \"Python\"  \n",
    "padded_text = text.ljust(10)  \n",
    "print(padded_text)  "
   ]
  },
  {
   "cell_type": "code",
   "execution_count": 165,
   "id": "07032562",
   "metadata": {},
   "outputs": [
    {
     "name": "stdout",
     "output_type": "stream",
     "text": [
      "Python----\n"
     ]
    }
   ],
   "source": [
    "text = \"Python\"  \n",
    "padded_text = text.ljust(10,'-')  \n",
    "print(padded_text)  "
   ]
  },
  {
   "cell_type": "code",
   "execution_count": 166,
   "id": "6e5fc051",
   "metadata": {},
   "outputs": [
    {
     "name": "stdout",
     "output_type": "stream",
     "text": [
      "    Python\n"
     ]
    }
   ],
   "source": [
    "text = \"Python\"  \n",
    "padded_text = text.rjust(10)  \n",
    "print(padded_text)  "
   ]
  },
  {
   "cell_type": "code",
   "execution_count": 167,
   "id": "d456a022",
   "metadata": {},
   "outputs": [
    {
     "name": "stdout",
     "output_type": "stream",
     "text": [
      "----Python\n"
     ]
    }
   ],
   "source": [
    "text = \"Python\"  \n",
    "padded_text = text.rjust(10,'-')  \n",
    "print(padded_text)  "
   ]
  },
  {
   "cell_type": "code",
   "execution_count": 168,
   "id": "c3ba51ed",
   "metadata": {},
   "outputs": [
    {
     "name": "stdout",
     "output_type": "stream",
     "text": [
      "**Python**\n"
     ]
    }
   ],
   "source": [
    "text = \"Python\"  \n",
    "padded_text = text.center(10, '*')  \n",
    "print(padded_text)  "
   ]
  },
  {
   "cell_type": "code",
   "execution_count": 170,
   "id": "429ea929",
   "metadata": {},
   "outputs": [
    {
     "name": "stdout",
     "output_type": "stream",
     "text": [
      "Hello, my name is Alice and I'm 30 years old.\n"
     ]
    }
   ],
   "source": [
    "name = \"Alice\"  \n",
    "age = 30  \n",
    "greeting = f\"Hello, my name is {name} and I'm {age} years old.\"  \n",
    "print(greeting)"
   ]
  },
  {
   "cell_type": "markdown",
   "id": "58fecf9d",
   "metadata": {},
   "source": [
    "# Eliminating Unnecessary Character of a String\n",
    "Python's strip() method is useful for data cleaning, especially when removing unnecessary characters from the beginning or end of strings. Data scientists often find data cleaning tedious, but Python's built-in string manipulation methods make it easier to remove unwanted characters from strings. The strip() method, in particular, can remove leading or trailing characters from a string."
   ]
  },
  {
   "cell_type": "code",
   "execution_count": 171,
   "id": "7acd4bf9",
   "metadata": {},
   "outputs": [
    {
     "name": "stdout",
     "output_type": "stream",
     "text": [
      "Hello, World\n"
     ]
    }
   ],
   "source": [
    "text = \"!!!Hello, World!!!\"  \n",
    "clean_text = text.strip(\"!\")  \n",
    "print(clean_text)  "
   ]
  },
  {
   "cell_type": "code",
   "execution_count": 173,
   "id": "b1299e98",
   "metadata": {},
   "outputs": [
    {
     "name": "stdout",
     "output_type": "stream",
     "text": [
      "Uzzal\n"
     ]
    }
   ],
   "source": [
    "text =\"   Uzzal    \"\n",
    "clean_text = text.strip()  \n",
    "print(clean_text)  "
   ]
  },
  {
   "cell_type": "code",
   "execution_count": 178,
   "id": "9b79f1c7",
   "metadata": {},
   "outputs": [
    {
     "name": "stdout",
     "output_type": "stream",
     "text": [
      "Hello, World\n"
     ]
    }
   ],
   "source": [
    "text = \",,,,,Hello, World,,,,,,*,,,,\"  \n",
    "clean_text = text.strip(\", * \")  \n",
    "print(clean_text)  "
   ]
  },
  {
   "cell_type": "code",
   "execution_count": null,
   "id": "47a4b4b3",
   "metadata": {},
   "outputs": [],
   "source": []
  }
 ],
 "metadata": {
  "kernelspec": {
   "display_name": "Python 3 (ipykernel)",
   "language": "python",
   "name": "python3"
  },
  "language_info": {
   "codemirror_mode": {
    "name": "ipython",
    "version": 3
   },
   "file_extension": ".py",
   "mimetype": "text/x-python",
   "name": "python",
   "nbconvert_exporter": "python",
   "pygments_lexer": "ipython3",
   "version": "3.9.7"
  }
 },
 "nbformat": 4,
 "nbformat_minor": 5
}
